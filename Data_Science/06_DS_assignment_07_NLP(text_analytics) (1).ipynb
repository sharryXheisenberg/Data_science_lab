{
 "cells": [
  {
   "cell_type": "code",
   "execution_count": 4,
   "id": "56f2c5bb",
   "metadata": {},
   "outputs": [],
   "source": [
    "import nltk\n",
    "\n",
    "from nltk.corpus import stopwords\n",
    "stopwords=stopwords.words('english')\n",
    "from nltk.stem import WordNetLemmatizer\n",
    "from nltk.stem import SnowballStemmer\n",
    "from nltk.stem import PorterStemmer\n",
    "from nltk import FreqDist\n",
    "import matplotlib.pyplot as plt \n",
    "\n",
    "\n",
    "from wordcloud import WordCloud"
   ]
  },
  {
   "cell_type": "code",
   "execution_count": 5,
   "id": "b0e986fa",
   "metadata": {},
   "outputs": [
    {
     "name": "stdout",
     "output_type": "stream",
     "text": [
      "text analytics is the process of analyzing unstructured text data to extract relevant information and insights it involves several preprocessing steps such as tokenization, pos tagging, stop words removal, stemming, and lemmatization. once the text is preprocessed, we can create representations of documents using techniques like tf-idf.\n"
     ]
    }
   ],
   "source": [
    "text =\"Text Analytics is the process of analyzing unstructured text data to extract relevant information and insights It involves several preprocessing steps such as tokenization, POS tagging, stop words removal, stemming, and lemmatization. Once the text is preprocessed, we can create representations of documents using techniques like TF-IDF.\"\n",
    "print(text.lower()"
   ]
  },
  {
   "cell_type": "code",
   "execution_count": 6,
   "id": "14ad0069",
   "metadata": {},
   "outputs": [
    {
     "name": "stdout",
     "output_type": "stream",
     "text": [
      "['Text', 'Analytics', 'is', 'the', 'process', 'of', 'analyzing', 'unstructured', 'text', 'data', 'to', 'extract', 'relevant', 'information', 'and', 'insights', 'It', 'involves', 'several', 'preprocessing', 'steps', 'such', 'as', 'tokenization', ',', 'POS', 'tagging', ',', 'stop', 'words', 'removal', ',', 'stemming', ',', 'and', 'lemmatization', '.', 'Once', 'the', 'text', 'is', 'preprocessed', ',', 'we', 'can', 'create', 'representations', 'of', 'documents', 'using', 'techniques', 'like', 'TF-IDF', '.']\n"
     ]
    }
   ],
   "source": [
    "# word tokenization\n",
    "word_tokenized=nltk.word_tokenize(text)\n",
    "print(word_tokenized)"
   ]
  },
  {
   "cell_type": "code",
   "execution_count": 7,
   "id": "1f60ed65",
   "metadata": {},
   "outputs": [
    {
     "name": "stdout",
     "output_type": "stream",
     "text": [
      "['Text Analytics is the process of analyzing unstructured text data to extract relevant information and insights It involves several preprocessing steps such as tokenization, POS tagging, stop words removal, stemming, and lemmatization.', 'Once the text is preprocessed, we can create representations of documents using techniques like TF-IDF.']\n"
     ]
    }
   ],
   "source": [
    "sent_tokenized=nltk.sent_tokenize(text)\n",
    "print(sent_tokenized)"
   ]
  },
  {
   "cell_type": "code",
   "execution_count": 8,
   "id": "1f770c47",
   "metadata": {},
   "outputs": [
    {
     "name": "stdout",
     "output_type": "stream",
     "text": [
      "['Text Analytics is the process of analyzing unstructured text data to extract relevant information and insights It involves several preprocessing steps such as tokenization, POS tagging, stop words removal, stemming, and lemmatization.', 'Once the text is preprocessed, we can create representations of documents using techniques like TF-IDF.']\n"
     ]
    }
   ],
   "source": [
    "sent_tokenized=nltk.sent_tokenize(text)\n",
    "print(sent_tokenized)"
   ]
  },
  {
   "cell_type": "code",
   "execution_count": 9,
   "id": "d83e5fc5",
   "metadata": {},
   "outputs": [
    {
     "data": {
      "text/plain": [
       "['i',\n",
       " 'me',\n",
       " 'my',\n",
       " 'myself',\n",
       " 'we',\n",
       " 'our',\n",
       " 'ours',\n",
       " 'ourselves',\n",
       " 'you',\n",
       " \"you're\",\n",
       " \"you've\",\n",
       " \"you'll\",\n",
       " \"you'd\",\n",
       " 'your',\n",
       " 'yours',\n",
       " 'yourself',\n",
       " 'yourselves',\n",
       " 'he',\n",
       " 'him',\n",
       " 'his',\n",
       " 'himself',\n",
       " 'she',\n",
       " \"she's\",\n",
       " 'her',\n",
       " 'hers',\n",
       " 'herself',\n",
       " 'it',\n",
       " \"it's\",\n",
       " 'its',\n",
       " 'itself',\n",
       " 'they',\n",
       " 'them',\n",
       " 'their',\n",
       " 'theirs',\n",
       " 'themselves',\n",
       " 'what',\n",
       " 'which',\n",
       " 'who',\n",
       " 'whom',\n",
       " 'this',\n",
       " 'that',\n",
       " \"that'll\",\n",
       " 'these',\n",
       " 'those',\n",
       " 'am',\n",
       " 'is',\n",
       " 'are',\n",
       " 'was',\n",
       " 'were',\n",
       " 'be',\n",
       " 'been',\n",
       " 'being',\n",
       " 'have',\n",
       " 'has',\n",
       " 'had',\n",
       " 'having',\n",
       " 'do',\n",
       " 'does',\n",
       " 'did',\n",
       " 'doing',\n",
       " 'a',\n",
       " 'an',\n",
       " 'the',\n",
       " 'and',\n",
       " 'but',\n",
       " 'if',\n",
       " 'or',\n",
       " 'because',\n",
       " 'as',\n",
       " 'until',\n",
       " 'while',\n",
       " 'of',\n",
       " 'at',\n",
       " 'by',\n",
       " 'for',\n",
       " 'with',\n",
       " 'about',\n",
       " 'against',\n",
       " 'between',\n",
       " 'into',\n",
       " 'through',\n",
       " 'during',\n",
       " 'before',\n",
       " 'after',\n",
       " 'above',\n",
       " 'below',\n",
       " 'to',\n",
       " 'from',\n",
       " 'up',\n",
       " 'down',\n",
       " 'in',\n",
       " 'out',\n",
       " 'on',\n",
       " 'off',\n",
       " 'over',\n",
       " 'under',\n",
       " 'again',\n",
       " 'further',\n",
       " 'then',\n",
       " 'once',\n",
       " 'here',\n",
       " 'there',\n",
       " 'when',\n",
       " 'where',\n",
       " 'why',\n",
       " 'how',\n",
       " 'all',\n",
       " 'any',\n",
       " 'both',\n",
       " 'each',\n",
       " 'few',\n",
       " 'more',\n",
       " 'most',\n",
       " 'other',\n",
       " 'some',\n",
       " 'such',\n",
       " 'no',\n",
       " 'nor',\n",
       " 'not',\n",
       " 'only',\n",
       " 'own',\n",
       " 'same',\n",
       " 'so',\n",
       " 'than',\n",
       " 'too',\n",
       " 'very',\n",
       " 's',\n",
       " 't',\n",
       " 'can',\n",
       " 'will',\n",
       " 'just',\n",
       " 'don',\n",
       " \"don't\",\n",
       " 'should',\n",
       " \"should've\",\n",
       " 'now',\n",
       " 'd',\n",
       " 'll',\n",
       " 'm',\n",
       " 'o',\n",
       " 're',\n",
       " 've',\n",
       " 'y',\n",
       " 'ain',\n",
       " 'aren',\n",
       " \"aren't\",\n",
       " 'couldn',\n",
       " \"couldn't\",\n",
       " 'didn',\n",
       " \"didn't\",\n",
       " 'doesn',\n",
       " \"doesn't\",\n",
       " 'hadn',\n",
       " \"hadn't\",\n",
       " 'hasn',\n",
       " \"hasn't\",\n",
       " 'haven',\n",
       " \"haven't\",\n",
       " 'isn',\n",
       " \"isn't\",\n",
       " 'ma',\n",
       " 'mightn',\n",
       " \"mightn't\",\n",
       " 'mustn',\n",
       " \"mustn't\",\n",
       " 'needn',\n",
       " \"needn't\",\n",
       " 'shan',\n",
       " \"shan't\",\n",
       " 'shouldn',\n",
       " \"shouldn't\",\n",
       " 'wasn',\n",
       " \"wasn't\",\n",
       " 'weren',\n",
       " \"weren't\",\n",
       " 'won',\n",
       " \"won't\",\n",
       " 'wouldn',\n",
       " \"wouldn't\"]"
      ]
     },
     "execution_count": 9,
     "metadata": {},
     "output_type": "execute_result"
    }
   ],
   "source": [
    "stopwords"
   ]
  },
  {
   "cell_type": "code",
   "execution_count": 11,
   "id": "54c39d2d",
   "metadata": {},
   "outputs": [
    {
     "name": "stdout",
     "output_type": "stream",
     "text": [
      "['Text', 'Analytics', 'process', 'analyzing', 'unstructured', 'text', 'data', 'extract', 'relevant', 'information', 'insights', 'It', 'involves', 'several', 'preprocessing', 'steps', 'tokenization', ',', 'POS', 'tagging', ',', 'stop', 'words', 'removal', ',', 'stemming', ',', 'lemmatization', '.', 'Once', 'text', 'preprocessed', ',', 'create', 'representations', 'documents', 'using', 'techniques', 'like', 'TF-IDF', '.']\n"
     ]
    }
   ],
   "source": [
    "stopwords_removed = [word for word in word_tokenized if word not in stopwords ]\n",
    "print(stopwords_removed)"
   ]
  },
  {
   "cell_type": "code",
   "execution_count": 12,
   "id": "5c7ff126",
   "metadata": {},
   "outputs": [
    {
     "name": "stdout",
     "output_type": "stream",
     "text": [
      "['Text', 'Analytics', 'process', 'analyzing', 'unstructured', 'text', 'data', 'extract', 'relevant', 'information', 'insight', 'It', 'involves', 'several', 'preprocessing', 'step', 'tokenization', ',', 'POS', 'tagging', ',', 'stop', 'word', 'removal', ',', 'stemming', ',', 'lemmatization', '.', 'Once', 'text', 'preprocessed', ',', 'create', 'representation', 'document', 'using', 'technique', 'like', 'TF-IDF', '.']\n"
     ]
    }
   ],
   "source": [
    "wordnet_lemmatizer = WordNetLemmatizer()\n",
    "lemmatized_words = [wordnet_lemmatizer.lemmatize(word) for word in stopwords_removed]\n",
    "print(lemmatized_words)"
   ]
  },
  {
   "cell_type": "code",
   "execution_count": 13,
   "id": "cbb72a22",
   "metadata": {},
   "outputs": [
    {
     "name": "stdout",
     "output_type": "stream",
     "text": [
      "['text', 'analyt', 'process', 'analyz', 'unstructur', 'text', 'data', 'extract', 'relev', 'inform', 'insight', 'it', 'involv', 'sever', 'preprocess', 'step', 'token', ',', 'pos', 'tag', ',', 'stop', 'word', 'remov', ',', 'stem', ',', 'lemmat', '.', 'onc', 'text', 'preprocess', ',', 'creat', 'represent', 'document', 'use', 'techniqu', 'like', 'tf-idf', '.']\n"
     ]
    }
   ],
   "source": [
    "#stemming \n",
    "snowball_stemmer = SnowballStemmer(\"english\")\n",
    "stemmed_words=[snowball_stemmer.stem(word) for word in lemmatized_words]\n",
    "print(stemmed_words)"
   ]
  },
  {
   "cell_type": "code",
   "execution_count": 14,
   "id": "8de1d1cc",
   "metadata": {},
   "outputs": [
    {
     "name": "stdout",
     "output_type": "stream",
     "text": [
      "['Text', 'Analytics', 'process', 'analyzing', 'unstructured', 'text', 'data', 'extract', 'relevant', 'information', 'insight', 'It', 'involves', 'several', 'preprocessing', 'step', 'tokenization', 'POS', 'tagging', 'stop', 'word', 'removal', 'stemming', 'lemmatization', 'Once', 'text', 'preprocessed', 'create', 'representation', 'document', 'using', 'technique', 'like']\n"
     ]
    }
   ],
   "source": [
    "#removing the punctuation \n",
    "\n",
    "words_without_punctuation = []\n",
    "for word in lemmatized_words:\n",
    "    if word.isalpha():\n",
    "        words_without_punctuation.append(word)\n",
    "print(words_without_punctuation)"
   ]
  },
  {
   "cell_type": "markdown",
   "id": "1b97a52f",
   "metadata": {},
   "source": [
    "Part-of-speech tagging (POS tagging) is a process in natural language processing (NLP) where words in a text are assigned their corresponding part-of-speech labels, such as noun, verb, adjective, adverb, etc. The goal of POS tagging is to identify the grammatical properties of words within a sentence. \n",
    "\n",
    "Noun (NN): A word that represents a person, place, thing, or idea.\n",
    "Verb (VB): A word that expresses an action or state of being.\n",
    "Adjective (JJ): A word that describes or modifies a noun.\n",
    "Adverb (RB): A word that describes or modifies a verb, adjective, or another adverb.\n",
    "Pronoun (PRP): A word that substitutes for a noun.\n",
    "Preposition (IN): A word that shows the relationship between a noun (or pronoun) and other words in the sentence.\n",
    "Conjunction (CC): A word that connects words, phrases, or clauses.\n",
    "Determiner (DT): A word that introduces or specifies a noun."
   ]
  },
  {
   "cell_type": "code",
   "execution_count": 15,
   "id": "5ce38273",
   "metadata": {},
   "outputs": [
    {
     "name": "stdout",
     "output_type": "stream",
     "text": [
      "[('Text', 'JJ'), ('Analytics', 'NNP'), ('process', 'NN'), ('analyzing', 'VBG'), ('unstructured', 'JJ'), ('text', 'NN'), ('data', 'NNS'), ('extract', 'NN'), ('relevant', 'JJ'), ('information', 'NN'), ('insight', 'VBD'), ('It', 'PRP'), ('involves', 'VBZ'), ('several', 'JJ'), ('preprocessing', 'VBG'), ('step', 'NN'), ('tokenization', 'NN'), ('POS', 'NNP'), ('tagging', 'VBG'), ('stop', 'JJ'), ('word', 'NN'), ('removal', 'NN'), ('stemming', 'VBG'), ('lemmatization', 'NN'), ('Once', 'NNP'), ('text', 'NN'), ('preprocessed', 'VBD'), ('create', 'JJ'), ('representation', 'NN'), ('document', 'NN'), ('using', 'VBG'), ('technique', 'NN'), ('like', 'IN')]\n"
     ]
    }
   ],
   "source": [
    "# postagging \n",
    "\n",
    "pos_tag = nltk.pos_tag(words_without_punctuation)\n",
    "print(pos_tag)"
   ]
  },
  {
   "cell_type": "code",
   "execution_count": 16,
   "id": "eb07211d",
   "metadata": {},
   "outputs": [
    {
     "name": "stdout",
     "output_type": "stream",
     "text": [
      "[('text', 2), ('Text', 1), ('Analytics', 1), ('process', 1), ('analyzing', 1), ('unstructured', 1), ('data', 1), ('extract', 1), ('relevant', 1), ('information', 1)]\n"
     ]
    },
    {
     "data": {
      "image/png": "[encoded data removed]",
      "text/plain": [
       "<Figure size 432x288 with 1 Axes>"
      ]
     },
     "metadata": {
      "needs_background": "light"
     },
     "output_type": "display_data"
    }
   ],
   "source": [
    "freq = FreqDist(words_without_punctuation)\n",
    "print(freq.most_common(10))\n",
    "\n",
    "freq.plot(10)\n",
    "plt.show()"
   ]
  },
  {
   "cell_type": "code",
   "execution_count": null,
   "id": "4dfe8e2e",
   "metadata": {},
   "outputs": [],
   "source": [
    "# only word cloud is remain "
   ]
  },
  {
   "cell_type": "markdown",
   "id": "637a14cf",
   "metadata": {},
   "source": [
    "# Tf-Idf vectorizer"
   ]
  },
  {
   "cell_type": "code",
   "execution_count": null,
   "id": "841f1154",
   "metadata": {},
   "outputs": [],
   "source": []
  },
  {
   "cell_type": "code",
   "execution_count": null,
   "id": "b60aef0e",
   "metadata": {},
   "outputs": [],
   "source": []
  },
  {
   "cell_type": "code",
   "execution_count": 10,
   "id": "4b46847d",
   "metadata": {},
   "outputs": [],
   "source": [
    "from sklearn.feature_extraction.text import TfidfVectorizer"
   ]
  },
  {
   "cell_type": "code",
   "execution_count": 11,
   "id": "2154085a",
   "metadata": {},
   "outputs": [
    {
     "name": "stdout",
     "output_type": "stream",
     "text": [
      "['Optimus prime', 'Megatron rules out the optimus prime', 'descepticons arrives for optimus prime']\n"
     ]
    }
   ],
   "source": [
    "# assign documents\n",
    "d0 = 'Optimus prime'\n",
    "d1 = 'Megatron rules out the optimus prime'\n",
    "d2 = 'descepticons arrives for optimus prime'\n",
    "\n",
    "# merge documents into a single corpus\n",
    "string = [d0, d1, d2]\n",
    "print(string)\n",
    "\n",
    "#can we take string as direct instead of string array type "
   ]
  },
  {
   "cell_type": "code",
   "execution_count": 13,
   "id": "8b50d321",
   "metadata": {},
   "outputs": [],
   "source": [
    "tfidf = TfidfVectorizer()\n",
    "result = tfidf.fit_transform(string)"
   ]
  },
  {
   "cell_type": "code",
   "execution_count": 14,
   "id": "310a18d3",
   "metadata": {},
   "outputs": [
    {
     "name": "stdout",
     "output_type": "stream",
     "text": [
      "  (0, 6)\t0.7071067811865475\n",
      "  (0, 4)\t0.7071067811865475\n",
      "  (1, 8)\t0.4613807291012212\n",
      "  (1, 5)\t0.4613807291012212\n",
      "  (1, 7)\t0.4613807291012212\n",
      "  (1, 3)\t0.4613807291012212\n",
      "  (1, 6)\t0.27249889105838787\n",
      "  (1, 4)\t0.27249889105838787\n",
      "  (2, 2)\t0.5200400832078022\n",
      "  (2, 0)\t0.5200400832078022\n",
      "  (2, 1)\t0.5200400832078022\n",
      "  (2, 6)\t0.3071440505460478\n",
      "  (2, 4)\t0.3071440505460478\n"
     ]
    }
   ],
   "source": [
    "print(result)"
   ]
  },
  {
   "cell_type": "code",
   "execution_count": 17,
   "id": "94e298a5",
   "metadata": {},
   "outputs": [
    {
     "name": "stdout",
     "output_type": "stream",
     "text": [
      "arrives : 1.6931471805599454\n",
      "descepticons : 1.6931471805599454\n",
      "for : 1.6931471805599454\n",
      "megatron : 1.6931471805599454\n",
      "optimus : 1.0\n",
      "out : 1.6931471805599454\n",
      "prime : 1.0\n",
      "rules : 1.6931471805599454\n",
      "the : 1.6931471805599454\n"
     ]
    }
   ],
   "source": [
    "#idf values\n",
    "\n",
    "for e1 ,e2 in zip(tfidf.get_feature_names(),tfidf.idf_):\n",
    "    print(e1 ,\":\",e2)"
   ]
  },
  {
   "cell_type": "code",
   "execution_count": 21,
   "id": "6ee6c39a",
   "metadata": {},
   "outputs": [
    {
     "name": "stdout",
     "output_type": "stream",
     "text": [
      "vocalboury\n",
      "{'optimus': 4, 'prime': 6, 'megatron': 3, 'rules': 7, 'out': 5, 'the': 8, 'descepticons': 1, 'arrives': 0, 'for': 2}\n",
      "tf - idf values\n",
      "  (0, 6)\t0.7071067811865475\n",
      "  (0, 4)\t0.7071067811865475\n",
      "  (1, 8)\t0.4613807291012212\n",
      "  (1, 5)\t0.4613807291012212\n",
      "  (1, 7)\t0.4613807291012212\n",
      "  (1, 3)\t0.4613807291012212\n",
      "  (1, 6)\t0.27249889105838787\n",
      "  (1, 4)\t0.27249889105838787\n",
      "  (2, 2)\t0.5200400832078022\n",
      "  (2, 0)\t0.5200400832078022\n",
      "  (2, 1)\t0.5200400832078022\n",
      "  (2, 6)\t0.3071440505460478\n",
      "  (2, 4)\t0.3071440505460478\n",
      "\n",
      " tf-idf values in the matrix form:\n",
      "[[0.         0.         0.         0.         0.70710678 0.\n",
      "  0.70710678 0.         0.        ]\n",
      " [0.         0.         0.         0.46138073 0.27249889 0.46138073\n",
      "  0.27249889 0.46138073 0.46138073]\n",
      " [0.52004008 0.52004008 0.52004008 0.         0.30714405 0.\n",
      "  0.30714405 0.         0.        ]]\n"
     ]
    }
   ],
   "source": [
    "print(\"vocalboury\")\n",
    "print(tfidf.vocabulary_)\n",
    "\n",
    "print(\"tf - idf values\")\n",
    "print(result)\n",
    "\n",
    "print(\"\\n tf-idf values in the matrix form:\")\n",
    "print(result.toarray())"
   ]
  },
  {
   "cell_type": "code",
   "execution_count": 7,
   "id": "54b49ab1",
   "metadata": {},
   "outputs": [],
   "source": [
    "import pandas as pd\n",
    "import numpy as np"
   ]
  },
  {
   "cell_type": "code",
   "execution_count": 1,
   "id": "63c270db",
   "metadata": {},
   "outputs": [
    {
     "name": "stdout",
     "output_type": "stream",
     "text": [
      "{'tree.', 'lazy', 'over', 'up', 'dog', 'quick', 'The', 'dog.', 'fox', 'brown', 'cat', 'the', 'chased', 'jumped'}\n"
     ]
    }
   ],
   "source": [
    "first_sentence = \"The brown dog chased the cat up the tree.\"\n",
    "second_sentence = \"The quick brown fox jumped over the lazy dog.\"\n",
    "\n",
    "sentence_first = first_sentence.split(\" \")\n",
    "sentence_second = second_sentence.split(\" \")\n",
    "\n",
    "total  = set(sentence_first).union(set(sentence_second))#for removing the duplicates\n",
    "print(total)"
   ]
  },
  {
   "cell_type": "code",
   "execution_count": 3,
   "id": "486c1d86",
   "metadata": {},
   "outputs": [],
   "source": [
    "dictA = dict.fromkeys(total,0)\n",
    "dictB = dict.fromkeys(total,0)\n",
    "\n",
    "for word in sentence_first:\n",
    "    dictA[word]+=1\n",
    "    \n",
    "for word in sentence_second:\n",
    "    dictB[word]+=1"
   ]
  },
  {
   "cell_type": "code",
   "execution_count": 4,
   "id": "210fdb25",
   "metadata": {},
   "outputs": [
    {
     "data": {
      "text/plain": [
       "{'tree.': 1,\n",
       " 'lazy': 0,\n",
       " 'over': 0,\n",
       " 'up': 1,\n",
       " 'dog': 1,\n",
       " 'quick': 0,\n",
       " 'The': 1,\n",
       " 'dog.': 0,\n",
       " 'fox': 0,\n",
       " 'brown': 1,\n",
       " 'cat': 1,\n",
       " 'the': 2,\n",
       " 'chased': 1,\n",
       " 'jumped': 0}"
      ]
     },
     "execution_count": 4,
     "metadata": {},
     "output_type": "execute_result"
    }
   ],
   "source": [
    "dictA"
   ]
  },
  {
   "cell_type": "code",
   "execution_count": 5,
   "id": "f6425ca6",
   "metadata": {},
   "outputs": [
    {
     "data": {
      "text/plain": [
       "{'tree.': 0,\n",
       " 'lazy': 1,\n",
       " 'over': 1,\n",
       " 'up': 0,\n",
       " 'dog': 0,\n",
       " 'quick': 1,\n",
       " 'The': 1,\n",
       " 'dog.': 1,\n",
       " 'fox': 1,\n",
       " 'brown': 1,\n",
       " 'cat': 0,\n",
       " 'the': 1,\n",
       " 'chased': 0,\n",
       " 'jumped': 1}"
      ]
     },
     "execution_count": 5,
     "metadata": {},
     "output_type": "execute_result"
    }
   ],
   "source": [
    "dictB"
   ]
  },
  {
   "cell_type": "code",
   "execution_count": 8,
   "id": "17ebd062",
   "metadata": {},
   "outputs": [],
   "source": [
    "new_df = pd.DataFrame([dictA,dictB])"
   ]
  },
  {
   "cell_type": "code",
   "execution_count": 9,
   "id": "e3e2ed28",
   "metadata": {},
   "outputs": [
    {
     "data": {
      "text/html": [
       "<div>\n",
       "<style scoped>\n",
       "    .dataframe tbody tr th:only-of-type {\n",
       "        vertical-align: middle;\n",
       "    }\n",
       "\n",
       "    .dataframe tbody tr th {\n",
       "        vertical-align: top;\n",
       "    }\n",
       "\n",
       "    .dataframe thead th {\n",
       "        text-align: right;\n",
       "    }\n",
       "</style>\n",
       "<table border=\"1\" class=\"dataframe\">\n",
       "  <thead>\n",
       "    <tr style=\"text-align: right;\">\n",
       "      <th></th>\n",
       "      <th>tree.</th>\n",
       "      <th>lazy</th>\n",
       "      <th>over</th>\n",
       "      <th>up</th>\n",
       "      <th>dog</th>\n",
       "      <th>quick</th>\n",
       "      <th>The</th>\n",
       "      <th>dog.</th>\n",
       "      <th>fox</th>\n",
       "      <th>brown</th>\n",
       "      <th>cat</th>\n",
       "      <th>the</th>\n",
       "      <th>chased</th>\n",
       "      <th>jumped</th>\n",
       "    </tr>\n",
       "  </thead>\n",
       "  <tbody>\n",
       "    <tr>\n",
       "      <th>0</th>\n",
       "      <td>1</td>\n",
       "      <td>0</td>\n",
       "      <td>0</td>\n",
       "      <td>1</td>\n",
       "      <td>1</td>\n",
       "      <td>0</td>\n",
       "      <td>1</td>\n",
       "      <td>0</td>\n",
       "      <td>0</td>\n",
       "      <td>1</td>\n",
       "      <td>1</td>\n",
       "      <td>2</td>\n",
       "      <td>1</td>\n",
       "      <td>0</td>\n",
       "    </tr>\n",
       "    <tr>\n",
       "      <th>1</th>\n",
       "      <td>0</td>\n",
       "      <td>1</td>\n",
       "      <td>1</td>\n",
       "      <td>0</td>\n",
       "      <td>0</td>\n",
       "      <td>1</td>\n",
       "      <td>1</td>\n",
       "      <td>1</td>\n",
       "      <td>1</td>\n",
       "      <td>1</td>\n",
       "      <td>0</td>\n",
       "      <td>1</td>\n",
       "      <td>0</td>\n",
       "      <td>1</td>\n",
       "    </tr>\n",
       "  </tbody>\n",
       "</table>\n",
       "</div>"
      ],
      "text/plain": [
       "   tree.  lazy  over  up  dog  quick  The  dog.  fox  brown  cat  the  chased  \\\n",
       "0      1     0     0   1    1      0    1     0    0      1    1    2       1   \n",
       "1      0     1     1   0    0      1    1     1    1      1    0    1       0   \n",
       "\n",
       "   jumped  \n",
       "0       0  \n",
       "1       1  "
      ]
     },
     "execution_count": 9,
     "metadata": {},
     "output_type": "execute_result"
    }
   ],
   "source": [
    "new_df"
   ]
  },
  {
   "cell_type": "code",
   "execution_count": 10,
   "id": "466a6911",
   "metadata": {},
   "outputs": [],
   "source": [
    "def computeTF(wordDict, doc):\n",
    "    tfDict = {}\n",
    "    corpusCount = len(doc)\n",
    "    for word, count in wordDict.items():\n",
    "        tfDict[word] = count/float(corpusCount)\n",
    "    return(tfDict)\n",
    "#is that doc should be dict or not \n"
   ]
  },
  {
   "cell_type": "code",
   "execution_count": 12,
   "id": "02232fc4",
   "metadata": {},
   "outputs": [
    {
     "data": {
      "text/html": [
       "<div>\n",
       "<style scoped>\n",
       "    .dataframe tbody tr th:only-of-type {\n",
       "        vertical-align: middle;\n",
       "    }\n",
       "\n",
       "    .dataframe tbody tr th {\n",
       "        vertical-align: top;\n",
       "    }\n",
       "\n",
       "    .dataframe thead th {\n",
       "        text-align: right;\n",
       "    }\n",
       "</style>\n",
       "<table border=\"1\" class=\"dataframe\">\n",
       "  <thead>\n",
       "    <tr style=\"text-align: right;\">\n",
       "      <th></th>\n",
       "      <th>tree.</th>\n",
       "      <th>lazy</th>\n",
       "      <th>over</th>\n",
       "      <th>up</th>\n",
       "      <th>dog</th>\n",
       "      <th>quick</th>\n",
       "      <th>The</th>\n",
       "      <th>dog.</th>\n",
       "      <th>fox</th>\n",
       "      <th>brown</th>\n",
       "      <th>cat</th>\n",
       "      <th>the</th>\n",
       "      <th>chased</th>\n",
       "      <th>jumped</th>\n",
       "    </tr>\n",
       "  </thead>\n",
       "  <tbody>\n",
       "    <tr>\n",
       "      <th>0</th>\n",
       "      <td>0.111111</td>\n",
       "      <td>0.000000</td>\n",
       "      <td>0.000000</td>\n",
       "      <td>0.111111</td>\n",
       "      <td>0.111111</td>\n",
       "      <td>0.000000</td>\n",
       "      <td>0.111111</td>\n",
       "      <td>0.000000</td>\n",
       "      <td>0.000000</td>\n",
       "      <td>0.111111</td>\n",
       "      <td>0.111111</td>\n",
       "      <td>0.222222</td>\n",
       "      <td>0.111111</td>\n",
       "      <td>0.000000</td>\n",
       "    </tr>\n",
       "    <tr>\n",
       "      <th>1</th>\n",
       "      <td>0.000000</td>\n",
       "      <td>0.111111</td>\n",
       "      <td>0.111111</td>\n",
       "      <td>0.000000</td>\n",
       "      <td>0.000000</td>\n",
       "      <td>0.111111</td>\n",
       "      <td>0.111111</td>\n",
       "      <td>0.111111</td>\n",
       "      <td>0.111111</td>\n",
       "      <td>0.111111</td>\n",
       "      <td>0.000000</td>\n",
       "      <td>0.111111</td>\n",
       "      <td>0.000000</td>\n",
       "      <td>0.111111</td>\n",
       "    </tr>\n",
       "  </tbody>\n",
       "</table>\n",
       "</div>"
      ],
      "text/plain": [
       "      tree.      lazy      over        up       dog     quick       The  \\\n",
       "0  0.111111  0.000000  0.000000  0.111111  0.111111  0.000000  0.111111   \n",
       "1  0.000000  0.111111  0.111111  0.000000  0.000000  0.111111  0.111111   \n",
       "\n",
       "       dog.       fox     brown       cat       the    chased    jumped  \n",
       "0  0.000000  0.000000  0.111111  0.111111  0.222222  0.111111  0.000000  \n",
       "1  0.111111  0.111111  0.111111  0.000000  0.111111  0.000000  0.111111  "
      ]
     },
     "execution_count": 12,
     "metadata": {},
     "output_type": "execute_result"
    }
   ],
   "source": [
    "tfFirst = computeTF(dictA,sentence_first)\n",
    "tfSecond = computeTF(dictB,sentence_second)\n",
    "\n",
    "new_tf_df = pd.DataFrame([tfFirst,tfSecond])\n",
    " \n",
    "new_tf_df"
   ]
  },
  {
   "cell_type": "code",
   "execution_count": 25,
   "id": "d2e1e3ac",
   "metadata": {},
   "outputs": [],
   "source": [
    "\n",
    "from sklearn.feature_extraction.text import TfidfVectorizer\n",
    "firstV= \"Data Science is the sexiest job of the 21st century\"\n",
    "secondV= \"machine learning is the key for data science\"\n",
    "vectorize= TfidfVectorizer()\n",
    "response= vectorize.fit_transform([firstV, secondV])"
   ]
  },
  {
   "cell_type": "code",
   "execution_count": 26,
   "id": "079b784b",
   "metadata": {},
   "outputs": [
    {
     "name": "stdout",
     "output_type": "stream",
     "text": [
      "\n",
      "Word indexes:\n",
      "{'data': 2, 'science': 10, 'is': 4, 'the': 12, 'sexiest': 11, 'job': 5, 'of': 9, '21st': 0, 'century': 1, 'machine': 8, 'learning': 7, 'key': 6, 'for': 3}\n"
     ]
    }
   ],
   "source": [
    "# get indexing\n",
    "print('\\nWord indexes:')\n",
    "print(vectorize.vocabulary_)\n"
   ]
  },
  {
   "cell_type": "code",
   "execution_count": 27,
   "id": "f3fc8194",
   "metadata": {},
   "outputs": [
    {
     "name": "stdout",
     "output_type": "stream",
     "text": [
      "  (0, 1)\t0.34211869506421816\n",
      "  (0, 0)\t0.34211869506421816\n",
      "  (0, 9)\t0.34211869506421816\n",
      "  (0, 5)\t0.34211869506421816\n",
      "  (0, 11)\t0.34211869506421816\n",
      "  (0, 12)\t0.48684053853849035\n",
      "  (0, 4)\t0.24342026926924518\n",
      "  (0, 10)\t0.24342026926924518\n",
      "  (0, 2)\t0.24342026926924518\n",
      "  (1, 3)\t0.40740123733358447\n",
      "  (1, 6)\t0.40740123733358447\n",
      "  (1, 7)\t0.40740123733358447\n",
      "  (1, 8)\t0.40740123733358447\n",
      "  (1, 12)\t0.28986933576883284\n",
      "  (1, 4)\t0.28986933576883284\n",
      "  (1, 10)\t0.28986933576883284\n",
      "  (1, 2)\t0.28986933576883284\n"
     ]
    }
   ],
   "source": [
    "print(response)"
   ]
  },
  {
   "cell_type": "code",
   "execution_count": null,
   "id": "309d1593",
   "metadata": {},
   "outputs": [],
   "source": []
  }
 ],
 "metadata": {
  "kernelspec": {
   "display_name": "Python 3 (ipykernel)",
   "language": "python",
   "name": "python3"
  },
  "language_info": {
   "codemirror_mode": {
    "name": "ipython",
    "version": 3
   },
   "file_extension": ".py",
   "mimetype": "text/x-python",
   "name": "python",
   "nbconvert_exporter": "python",
   "pygments_lexer": "ipython3",
   "version": "3.9.12"
  }
 },
 "nbformat": 4,
 "nbformat_minor": 5
}
